{
 "cells": [
  {
   "cell_type": "markdown",
   "metadata": {},
   "source": [
    "<h2><center>Python San Salvador Meetup </center></h2>\n",
    "<h1><center>Meetup 1 - Introducción a Python</center></h1>\n",
    "\n",
    "<p><center>Nota: Se basa partes de esta presentación en tutoriales de DjangoGirls (https://tutorial.djangogirls.org/es/)<center></p>"
   ]
  },
  {
   "cell_type": "markdown",
   "metadata": {},
   "source": [
    "---"
   ]
  },
  {
   "cell_type": "markdown",
   "metadata": {},
   "source": [
    "### Ventajas de Python\n",
    "- Se puede aprender el lenguaje rapidamente\n",
    "- Normalmente se usa menos código\n",
    "- Sintaxis es más fácil para leer\n",
    "- Se utiliza whitespaces en lugar de {} como otros lenguajes\n",
    "- Utilizado por cada compañía de tecnología\n",
    "- Existe un montón de librerías de código abierto\n"
   ]
  },
  {
   "cell_type": "markdown",
   "metadata": {},
   "source": [
    "---"
   ]
  },
  {
   "cell_type": "markdown",
   "metadata": {},
   "source": [
    "### Instalación de Python\n",
    "- Averiguar si ya tienes Python installado en tu computadora\n",
    "    - Ingresar \"python\" y pulsa \"enter\" dentro de la línea de comandos (Windows) o terminal (Mac)\n",
    "    - para ver la versión, ingresar \"python -V\"\n",
    "- Ver instucciones para su sistema operativo en https://tutorial.djangogirls.org/es/python_installation/\n",
    "- Python 2 vs 3\n",
    "    - Hay varias diferencias entre Python 2.7\n",
    "    - Hay apoyo para Python 3 para el programa que necesitarás? (ver http://py3readiness.org/)\n",
    "    - Si sos nuevo a Python y es un proyecto nuevo, recomendación es instalar Python 3\n",
    "    - A partir de 2020, se dejará de mantener Python 2.7\n",
    "\n",
    "\n",
    "- Otra opción - Descargar la distribución de Anaconda la que incluye Python más otras librerías útiles como Jupyter y Pandas (https://conda.io/docs/user-guide/install/download.html)\n",
    "    - Miniconda si no tienes mucho espacio en tu computadora\n"
   ]
  },
  {
   "cell_type": "markdown",
   "metadata": {},
   "source": [
    "---"
   ]
  },
  {
   "cell_type": "markdown",
   "metadata": {},
   "source": [
    "### Cómo se puede correr el código de Python\n",
    "\n",
    "- Entorno de desarrollo\n",
    "    - Editor de texto (Sublime Text, Atom, Visual Studio Code)\n",
    "    - Full IDEs (entorno de desarrollo integrado como Pycharm, Spyder)\n",
    "    - Entornos de Notebook (Jupyter - super útil para aprender... antes se llamaba IPython Notebook)\n",
    "- Prompt interactivo de Python\n",
    "    - Ingresar \"python\" o \"python3\" dentro de la línea de comandos o terminal para abrir el prompt interactivo de Python\n"
   ]
  },
  {
   "cell_type": "markdown",
   "metadata": {},
   "source": [
    "---"
   ]
  },
  {
   "cell_type": "markdown",
   "metadata": {},
   "source": [
    "<h2><center>Estructuras de Datos de Python </center></h2>\n",
    "\n",
    "<p><center>Nota: Se basa esta presentación en tutoriales por Jose Portilla (http://nbviewer.jupyter.org/github/jmportilla/Complete-Python-Bootcamp/tree/master/)<center></p>"
   ]
  },
  {
   "cell_type": "markdown",
   "metadata": {},
   "source": [
    "---"
   ]
  },
  {
   "cell_type": "markdown",
   "metadata": {},
   "source": [
    "## Números\n",
    "\n",
    "Vamos a cubrir:\n",
    "- Tipos de números en Python\n",
    "- Matemáticas básicas\n",
    "- Diferencia entre Python 2 y 3 con respecto a la división\n",
    "- Asignación de objetos a variables en Python"
   ]
  },
  {
   "cell_type": "code",
   "execution_count": 27,
   "metadata": {},
   "outputs": [],
   "source": [
    "# tipos de números\n",
    "# integer\n",
    "\n",
    "# floating point"
   ]
  },
  {
   "cell_type": "code",
   "execution_count": 28,
   "metadata": {},
   "outputs": [],
   "source": [
    "# Adición\n"
   ]
  },
  {
   "cell_type": "code",
   "execution_count": 29,
   "metadata": {},
   "outputs": [],
   "source": [
    "# Resta\n"
   ]
  },
  {
   "cell_type": "code",
   "execution_count": 30,
   "metadata": {},
   "outputs": [],
   "source": [
    "# Multiplicación\n"
   ]
  },
  {
   "cell_type": "code",
   "execution_count": 31,
   "metadata": {},
   "outputs": [],
   "source": [
    "# División - división verdadera\n",
    "# según Python 3\n",
    "\n"
   ]
  },
  {
   "cell_type": "code",
   "execution_count": 32,
   "metadata": {},
   "outputs": [],
   "source": [
    "# División - división clásica\n",
    "# según python 2 - ie. 3/2 en python 2 = 1 (se trunca el .5)\n"
   ]
  },
  {
   "cell_type": "code",
   "execution_count": 65,
   "metadata": {},
   "outputs": [],
   "source": [
    "# resto de la división con % (el modulo)\n"
   ]
  },
  {
   "cell_type": "code",
   "execution_count": 34,
   "metadata": {},
   "outputs": [],
   "source": [
    "# es par o impar\n"
   ]
  },
  {
   "cell_type": "code",
   "execution_count": 35,
   "metadata": {},
   "outputs": [],
   "source": [
    "# exponentes\n"
   ]
  },
  {
   "cell_type": "code",
   "execution_count": 36,
   "metadata": {},
   "outputs": [],
   "source": [
    "# raíz cuadrada\n"
   ]
  },
  {
   "cell_type": "code",
   "execution_count": 188,
   "metadata": {},
   "outputs": [],
   "source": [
    "# orden de operaciones\n"
   ]
  },
  {
   "cell_type": "code",
   "execution_count": 38,
   "metadata": {},
   "outputs": [],
   "source": [
    "# se puede usar paréntesis para cambiar la orden de operaciones\n"
   ]
  },
  {
   "cell_type": "code",
   "execution_count": 39,
   "metadata": {},
   "outputs": [],
   "source": [
    "# operaciones adicionales\n",
    "# importar una librería para pi\n"
   ]
  },
  {
   "cell_type": "code",
   "execution_count": 40,
   "metadata": {},
   "outputs": [],
   "source": [
    "# Utilizar una variable para almacenar un numero\n"
   ]
  },
  {
   "cell_type": "code",
   "execution_count": 41,
   "metadata": {},
   "outputs": [],
   "source": [
    "# cambiar la variable\n"
   ]
  },
  {
   "cell_type": "markdown",
   "metadata": {},
   "source": [
    "#### ejemplo de números"
   ]
  },
  {
   "cell_type": "code",
   "execution_count": 42,
   "metadata": {},
   "outputs": [],
   "source": [
    "# calcular la ISR\n",
    "# la renta\n"
   ]
  },
  {
   "cell_type": "code",
   "execution_count": null,
   "metadata": {},
   "outputs": [],
   "source": [
    "# tasa de impuesto sobre la renta\n"
   ]
  },
  {
   "cell_type": "code",
   "execution_count": null,
   "metadata": {},
   "outputs": [],
   "source": [
    "# lo que debo\n"
   ]
  },
  {
   "cell_type": "markdown",
   "metadata": {},
   "source": [
    "---"
   ]
  },
  {
   "cell_type": "markdown",
   "metadata": {},
   "source": [
    "## Strings\n",
    "- Se usa para registrar información en una forma de texto, como nombres\n",
    "- Strings en realidad se tratan como secuencias, lo que básicamente significa que Python realiza un seguimiento de cada elemento de la cadena como una secuencia. \n",
    "    - Por ejemplo, Python entiende que la string \"hola\" es una secuencia de letras en un orden específico lo que significa que podremos usar la indexación para tomar letras en particular (como la primera letra o la última).\n",
    "    \n",
    "Vamos a cubrir:\n",
    "- Crear strings\n",
    "- Imprimir strings\n",
    "- Diferencia entre Python 2 y 3 con respecto a imprimir\n",
    "- Indización y corte de strings\n",
    "- Propiedades de strings\n",
    "- Métodos de cadena"
   ]
  },
  {
   "cell_type": "markdown",
   "metadata": {},
   "source": [
    "---"
   ]
  },
  {
   "cell_type": "code",
   "execution_count": 43,
   "metadata": {},
   "outputs": [],
   "source": [
    "# para crear, utilizar comillas simples o dobles\n"
   ]
  },
  {
   "cell_type": "code",
   "execution_count": 44,
   "metadata": {},
   "outputs": [],
   "source": [
    "# palabra o frase\n"
   ]
  },
  {
   "cell_type": "code",
   "execution_count": 45,
   "metadata": {},
   "outputs": [],
   "source": [
    "# ten cuidado con las comillas (más que todo en ingles)\n",
    "\n",
    "\n"
   ]
  },
  {
   "cell_type": "code",
   "execution_count": 46,
   "metadata": {},
   "outputs": [],
   "source": [
    "# imprimir strings (y en realidad otros objetos como números)\n"
   ]
  },
  {
   "cell_type": "code",
   "execution_count": 47,
   "metadata": {},
   "outputs": [],
   "source": [
    "# imprimir en Python 2 vs 3\n",
    "# una de las diferencias más notables\n",
    "\n"
   ]
  },
  {
   "cell_type": "code",
   "execution_count": 48,
   "metadata": {},
   "outputs": [],
   "source": [
    "# asignar una string a una variable\n"
   ]
  },
  {
   "cell_type": "code",
   "execution_count": 49,
   "metadata": {},
   "outputs": [],
   "source": [
    "# indización una string\n",
    "# OJO: en Python, se empieza desde 0, no 1, y se incluye todo hasta el último indice (osea, es exclusivo, no inclusivo)\n",
    "\n",
    "\n"
   ]
  },
  {
   "cell_type": "code",
   "execution_count": 50,
   "metadata": {},
   "outputs": [],
   "source": [
    "# agarrar la primera letra\n"
   ]
  },
  {
   "cell_type": "code",
   "execution_count": 51,
   "metadata": {},
   "outputs": [],
   "source": [
    "# agarrar la última letra\n"
   ]
  },
  {
   "cell_type": "code",
   "execution_count": 52,
   "metadata": {},
   "outputs": [],
   "source": [
    "# agarrar todo\n"
   ]
  },
  {
   "cell_type": "code",
   "execution_count": 53,
   "metadata": {},
   "outputs": [],
   "source": [
    "# fíjate que no se cambia la variable original\n"
   ]
  },
  {
   "cell_type": "code",
   "execution_count": 54,
   "metadata": {},
   "outputs": [],
   "source": [
    "# Última letra (desde de la indice de 0 empezamos a contar al reves)\n"
   ]
  },
  {
   "cell_type": "code",
   "execution_count": 55,
   "metadata": {},
   "outputs": [],
   "source": [
    "# strings son inmutables (no se puede editar)\n",
    "\n"
   ]
  },
  {
   "cell_type": "code",
   "execution_count": 56,
   "metadata": {},
   "outputs": [],
   "source": [
    "# longitud de una string\n"
   ]
  },
  {
   "cell_type": "code",
   "execution_count": 57,
   "metadata": {},
   "outputs": [],
   "source": [
    "# concatenar strings\n"
   ]
  },
  {
   "cell_type": "code",
   "execution_count": 58,
   "metadata": {},
   "outputs": [],
   "source": [
    "# repetir una string con el símbolo de multiplicación\n"
   ]
  },
  {
   "cell_type": "code",
   "execution_count": 59,
   "metadata": {},
   "outputs": [],
   "source": [
    "# metodos de strings\n"
   ]
  },
  {
   "cell_type": "code",
   "execution_count": 60,
   "metadata": {},
   "outputs": [],
   "source": [
    "# Mayúscula y minúscula\n"
   ]
  },
  {
   "cell_type": "code",
   "execution_count": 61,
   "metadata": {},
   "outputs": [],
   "source": [
    "# separar una frase en palabras individuales\n",
    "# ojo que se devuelve el primer objeto que vamos a discutir - una lista\n",
    "\n"
   ]
  },
  {
   "cell_type": "markdown",
   "metadata": {},
   "source": [
    "#### ejemplo de strings"
   ]
  },
  {
   "cell_type": "code",
   "execution_count": 126,
   "metadata": {},
   "outputs": [
    {
     "name": "stdout",
     "output_type": "stream",
     "text": [
      "Ingresar tu primer nombre: Joe\n"
     ]
    }
   ],
   "source": [
    "# !ALOH -- un saludo un poco al reves\n",
    "# pedir al usuario ingresar su nombre y saludarlo al reves\n",
    "# se utilizará función incorporada de input() lo que permite el usuario ingresar información para ser utilizado por el script\n",
    "nombre = input('Ingresar tu primer nombre: ',)\n"
   ]
  },
  {
   "cell_type": "code",
   "execution_count": 114,
   "metadata": {},
   "outputs": [
    {
     "data": {
      "text/plain": [
       "'e'"
      ]
     },
     "execution_count": 114,
     "metadata": {},
     "output_type": "execute_result"
    }
   ],
   "source": [
    "# como podemos indizar desde el final?\n",
    "\n",
    "# agarrar la ultima letra\n",
    "\n",
    "# agarra la penultima letra\n"
   ]
  },
  {
   "cell_type": "code",
   "execution_count": null,
   "metadata": {},
   "outputs": [],
   "source": [
    "# cuantas letras tenemos que pasar por llegar al principio del nombre?\n"
   ]
  },
  {
   "cell_type": "code",
   "execution_count": 116,
   "metadata": {},
   "outputs": [],
   "source": [
    "# utilzar un bucle para ciclar por una secuencia\n",
    "# ejemplo simple - imprimir cada letra de 'hola'\n",
    "\n"
   ]
  },
  {
   "cell_type": "code",
   "execution_count": 127,
   "metadata": {},
   "outputs": [
    {
     "name": "stdout",
     "output_type": "stream",
     "text": [
      "e\n",
      "o\n",
      "J\n",
      "Ya!\n"
     ]
    }
   ],
   "source": [
    "# solución (una de varias)\n",
    "indice = -1\n",
    "for letra in nombre:\n",
    "    print(nombre[indice])\n",
    "    indice = indice - 1\n",
    "\n",
    "print('Ya!')"
   ]
  },
  {
   "cell_type": "code",
   "execution_count": 134,
   "metadata": {},
   "outputs": [
    {
     "name": "stdout",
     "output_type": "stream",
     "text": [
      "e\n",
      "o\n",
      "J\n",
      "Ya!\n"
     ]
    }
   ],
   "source": [
    "# otra solución\n",
    "reves = nombre[::-1] # agarrar todo pero con un incremento de -1\n",
    "for i in reves:\n",
    "    print(i)\n",
    "\n",
    "print('Ya!')"
   ]
  },
  {
   "cell_type": "code",
   "execution_count": null,
   "metadata": {},
   "outputs": [],
   "source": [
    "# solución (una de varias)\n",
    "indice = -1\n",
    "for letra in nombre[::-1]:\n",
    "    print(nombre[indice])\n",
    "    indice = indice - 1\n",
    "\n",
    "print('Ya!')"
   ]
  },
  {
   "cell_type": "code",
   "execution_count": 128,
   "metadata": {},
   "outputs": [
    {
     "name": "stdout",
     "output_type": "stream",
     "text": [
      "The Zen of Python, by Tim Peters\n",
      "\n",
      "Beautiful is better than ugly.\n",
      "Explicit is better than implicit.\n",
      "Simple is better than complex.\n",
      "Complex is better than complicated.\n",
      "Flat is better than nested.\n",
      "Sparse is better than dense.\n",
      "Readability counts.\n",
      "Special cases aren't special enough to break the rules.\n",
      "Although practicality beats purity.\n",
      "Errors should never pass silently.\n",
      "Unless explicitly silenced.\n",
      "In the face of ambiguity, refuse the temptation to guess.\n",
      "There should be one-- and preferably only one --obvious way to do it.\n",
      "Although that way may not be obvious at first unless you're Dutch.\n",
      "Now is better than never.\n",
      "Although never is often better than *right* now.\n",
      "If the implementation is hard to explain, it's a bad idea.\n",
      "If the implementation is easy to explain, it may be a good idea.\n",
      "Namespaces are one honking great idea -- let's do more of those!\n"
     ]
    }
   ],
   "source": [
    "## Un tema central de Python es escribir código \"Pythonic\" \n",
    "import this"
   ]
  },
  {
   "cell_type": "markdown",
   "metadata": {},
   "source": [
    "---"
   ]
  },
  {
   "cell_type": "markdown",
   "metadata": {},
   "source": [
    "## Listas\n",
    "- Se construye listas con corchetes [] y se separa cada elemento con comas\n",
    "- Se representa la versión más general de una secuencia en Python\n",
    "- A diferencia de las strings, son mutables, lo que significa que los elementos dentro de una lista se pueden cambiar.\n",
    "\n",
    "Vamos a cubrir:\n",
    "- Crear listas\n",
    "- Indización de listas\n",
    "- Cortar una lista\n",
    "- Métodos básicos de la lista\n",
    "- Listas anidada"
   ]
  },
  {
   "cell_type": "code",
   "execution_count": 66,
   "metadata": {},
   "outputs": [],
   "source": [
    "# crear una lista con []\n"
   ]
  },
  {
   "cell_type": "code",
   "execution_count": 63,
   "metadata": {},
   "outputs": [],
   "source": [
    "# crear una lista con list()\n"
   ]
  },
  {
   "cell_type": "code",
   "execution_count": 64,
   "metadata": {},
   "outputs": [],
   "source": [
    "# una lista se puede componer de varios tipos de objetos de Python\n",
    "# una lista de un integer, floating point, strings\n"
   ]
  },
  {
   "cell_type": "code",
   "execution_count": null,
   "metadata": {},
   "outputs": [],
   "source": [
    "# Indización de lista\n",
    "# agarrar el primer elemento\n"
   ]
  },
  {
   "cell_type": "code",
   "execution_count": null,
   "metadata": {},
   "outputs": [],
   "source": [
    "# agarrar el último elemento\n"
   ]
  },
  {
   "cell_type": "code",
   "execution_count": null,
   "metadata": {},
   "outputs": [],
   "source": [
    "# agarrar todos los elementos salvo el primero\n"
   ]
  },
  {
   "cell_type": "code",
   "execution_count": 169,
   "metadata": {},
   "outputs": [],
   "source": [
    "# concatenar una lista\n",
    "mylist = [1,2,4]"
   ]
  },
  {
   "cell_type": "code",
   "execution_count": 70,
   "metadata": {},
   "outputs": [
    {
     "data": {
      "text/plain": [
       "[1, 2, 4, 3, 5]"
      ]
     },
     "execution_count": 70,
     "metadata": {},
     "output_type": "execute_result"
    }
   ],
   "source": [
    "# la lista original permanece sin cambios"
   ]
  },
  {
   "cell_type": "code",
   "execution_count": 170,
   "metadata": {},
   "outputs": [],
   "source": [
    "# reasignar la variable\n"
   ]
  },
  {
   "cell_type": "code",
   "execution_count": null,
   "metadata": {},
   "outputs": [],
   "source": [
    "# adjuntar otro elemento a la lista con append()\n"
   ]
  },
  {
   "cell_type": "code",
   "execution_count": null,
   "metadata": {},
   "outputs": [],
   "source": [
    "# quitar elemento de la lista con pop()\n"
   ]
  },
  {
   "cell_type": "code",
   "execution_count": 144,
   "metadata": {},
   "outputs": [],
   "source": [
    "listaA = ['a','e','B','x','b','c']\n",
    "lista1 = [10,4,6,2,9,1]"
   ]
  },
  {
   "cell_type": "markdown",
   "metadata": {},
   "source": [
    "---"
   ]
  },
  {
   "cell_type": "markdown",
   "metadata": {},
   "source": [
    "### Tips\n",
    "- Dentro de jupyter, se puede utilizar ciertas pulsaciones de teclas para recibir más información sobre los detalles de cualquier elemento de Python\n",
    "    - pulsar tab == > completar el código\n",
    "    - pulsar tab despues del punto tras un objeto de Python == > mostrar todos los métodos posibles del objeto\n",
    "        - Por ejemplo, miLista = [1,2,3] == > al pulsar tab después de escribir \"mylista.\", te va a mostrar el sistema todos las opciones de métodos para listas (e.g., append, pop, sort, etc.)\n",
    "    - pulsar tab + shift == > mostar un tooltip con la documentación (docstring)\n",
    "\n",
    "- Dentro de jupyter y del prompt interactiva de Python, se puede usar \"help() para recibir más información sobre los detalles de cualquier elemento de Python"
   ]
  },
  {
   "cell_type": "markdown",
   "metadata": {},
   "source": [
    "---"
   ]
  },
  {
   "cell_type": "code",
   "execution_count": 152,
   "metadata": {},
   "outputs": [
    {
     "data": {
      "text/plain": [
       "['a', 'e', 'B', 'x', 'b', 'c']"
      ]
     },
     "execution_count": 152,
     "metadata": {},
     "output_type": "execute_result"
    }
   ],
   "source": [
    "# revetir la orden\n",
    "# OJO - es permanente... listas son mutable\n",
    "listaA.reverse()\n",
    "listaA\n"
   ]
  },
  {
   "cell_type": "code",
   "execution_count": 155,
   "metadata": {},
   "outputs": [
    {
     "data": {
      "text/plain": [
       "['B', 'a', 'b', 'c', 'e', 'x']"
      ]
     },
     "execution_count": 155,
     "metadata": {},
     "output_type": "execute_result"
    }
   ],
   "source": [
    "# ordenar la lista\n",
    "# letras --- 'A' a 'Z' luego 'a' a 'z'\n",
    "# OJO - es permanente... listas son mutable\n",
    "listaA.sort()\n",
    "listaA"
   ]
  },
  {
   "cell_type": "code",
   "execution_count": 156,
   "metadata": {},
   "outputs": [
    {
     "data": {
      "text/plain": [
       "[1, 2, 4, 6, 9, 10]"
      ]
     },
     "execution_count": 156,
     "metadata": {},
     "output_type": "execute_result"
    }
   ],
   "source": [
    "# ordenar la lista\n",
    "# numeros --- 1, 2, 3, etc\n",
    "# OJO - es permanente... listas son mutables\n",
    "lista1.sort()\n",
    "lista1"
   ]
  },
  {
   "cell_type": "code",
   "execution_count": 159,
   "metadata": {},
   "outputs": [],
   "source": [
    "# Listas anidada\n",
    "# hacemos tres listas separadas\n",
    "lst1 = []\n",
    "lst2 = []\n",
    "lst3 = []"
   ]
  },
  {
   "cell_type": "code",
   "execution_count": 161,
   "metadata": {},
   "outputs": [],
   "source": [
    "# hacemos una lista de las tres listas... una matriz\n",
    "matriz = [lst1, lst2, lst3]"
   ]
  },
  {
   "cell_type": "code",
   "execution_count": 162,
   "metadata": {},
   "outputs": [
    {
     "data": {
      "text/plain": [
       "[[1, 2, 3], [1, 2, 4], [1, 2, 5]]"
      ]
     },
     "execution_count": 162,
     "metadata": {},
     "output_type": "execute_result"
    }
   ],
   "source": [
    "#mostrar la matriz\n",
    "matriz"
   ]
  },
  {
   "cell_type": "code",
   "execution_count": null,
   "metadata": {},
   "outputs": [],
   "source": [
    "# agarrar el segundo elemento de la matriz\n"
   ]
  },
  {
   "cell_type": "code",
   "execution_count": null,
   "metadata": {},
   "outputs": [],
   "source": [
    "# agarrar el segundo elemento del segundo elemento de la matriz\n"
   ]
  },
  {
   "cell_type": "code",
   "execution_count": 164,
   "metadata": {},
   "outputs": [],
   "source": [
    "# aunque con las librerias incorporadas de Python se puede hacer mucho, hay varias librerias externales que ofrecen mas funcionalidad\n",
    "# para trabajar con una matrix, numpy es una libreria util\n",
    "import numpy as np\n",
    "ma2 = np.array(matriz)"
   ]
  },
  {
   "cell_type": "code",
   "execution_count": 168,
   "metadata": {},
   "outputs": [
    {
     "data": {
      "text/plain": [
       "array([[1, 1, 1],\n",
       "       [2, 2, 2],\n",
       "       [3, 4, 5]])"
      ]
     },
     "execution_count": 168,
     "metadata": {},
     "output_type": "execute_result"
    }
   ],
   "source": [
    "# transponer la matriz\n"
   ]
  },
  {
   "cell_type": "code",
   "execution_count": null,
   "metadata": {},
   "outputs": [],
   "source": [
    "#### Ejemplo con listas\n",
    "## \n"
   ]
  },
  {
   "cell_type": "markdown",
   "metadata": {},
   "source": [
    "---"
   ]
  },
  {
   "cell_type": "markdown",
   "metadata": {},
   "source": [
    "### Diccionarios\n",
    "- Similar a una lista, pero accedes a valores usando una clave en vez de un índice\n",
    "    - Distinguir entre Mapping vs Secuencia es importante, ya que las mappings no conservarán el orden - i.e., no son secuenciales.\n",
    "    - Puedes pensar en diccionarios como tablas hash de otros lenguajes\n",
    "- Se construye diccionarios con llaves {} y se separa cada clave y valor por dos puntos : y cada par de clave-valor por comas\n",
    "- Los llaves deben ser únicos dentro del diccionario y solo se permite un numero o string\n",
    "- Los valores no deber ser únicos y pueden ser de cualquier tipo \n",
    "\n",
    "Vamos a cubrir:\n",
    "- Crear diccionarios\n",
    "- Acceder a objetos dentro del diccionario\n",
    "- Diccionario anidado\n",
    "- Métodos básicos del diccionario\n"
   ]
  },
  {
   "cell_type": "code",
   "execution_count": 175,
   "metadata": {},
   "outputs": [],
   "source": [
    "# Crear un diccionario con {} y luego dict()\n"
   ]
  },
  {
   "cell_type": "code",
   "execution_count": 189,
   "metadata": {},
   "outputs": [],
   "source": [
    "# Crear un diccionario con {} y luego dict()\n",
    "\n"
   ]
  },
  {
   "cell_type": "code",
   "execution_count": 190,
   "metadata": {},
   "outputs": [
    {
     "data": {
      "text/plain": [
       "{2: False, 'k': 1}"
      ]
     },
     "execution_count": 190,
     "metadata": {},
     "output_type": "execute_result"
    }
   ],
   "source": [
    "# ojo - los claves deben ser únicos\n",
    "# si no, solo se incluye un par"
   ]
  },
  {
   "cell_type": "code",
   "execution_count": 174,
   "metadata": {},
   "outputs": [
    {
     "data": {
      "text/plain": [
       "{'key1': 'value1', 'key2': 'value2'}"
      ]
     },
     "execution_count": 174,
     "metadata": {},
     "output_type": "execute_result"
    }
   ],
   "source": [
    "# llamar un valor por su llave"
   ]
  },
  {
   "cell_type": "code",
   "execution_count": 197,
   "metadata": {},
   "outputs": [],
   "source": [
    "# un diccionario puede contener valores de varios tipos\n",
    "midict1 = {'key1':123,'key2':[12,23,33],'key3':['item0','item1','item2']}"
   ]
  },
  {
   "cell_type": "code",
   "execution_count": null,
   "metadata": {},
   "outputs": [],
   "source": [
    "# llamar el segundo elemento de key3"
   ]
  },
  {
   "cell_type": "code",
   "execution_count": null,
   "metadata": {},
   "outputs": [],
   "source": [
    "# cambiar el valor de una llave"
   ]
  },
  {
   "cell_type": "code",
   "execution_count": null,
   "metadata": {},
   "outputs": [],
   "source": [
    "## diccionario anidado\n",
    "# llave, llaveAnidado, llaveSubAnidado\n"
   ]
  },
  {
   "cell_type": "code",
   "execution_count": null,
   "metadata": {},
   "outputs": [],
   "source": [
    "## llamar el valor del diccionario mas anidado\n"
   ]
  },
  {
   "cell_type": "code",
   "execution_count": null,
   "metadata": {},
   "outputs": [],
   "source": [
    "## llamar todas las llaves con el metodo .keys()\n"
   ]
  },
  {
   "cell_type": "code",
   "execution_count": null,
   "metadata": {},
   "outputs": [],
   "source": [
    "## llamar todos los valores con el metodo .values()\n"
   ]
  },
  {
   "cell_type": "code",
   "execution_count": 205,
   "metadata": {},
   "outputs": [
    {
     "name": "stdout",
     "output_type": "stream",
     "text": [
      "('key1', 123)\n",
      "<class 'tuple'>\n",
      "('key2', [12, 23, 33])\n",
      "<class 'tuple'>\n",
      "('key3', ['item0', 'item1', 'item2'])\n",
      "<class 'tuple'>\n"
     ]
    }
   ],
   "source": [
    "## llamar todos los pares de llave y valor\n",
    "# se devuelve otro tipo de objeto de Python - un tuple\n",
    "for i in midict1.items():\n",
    "    print(i)\n",
    "    print(type(i))"
   ]
  },
  {
   "cell_type": "code",
   "execution_count": null,
   "metadata": {},
   "outputs": [],
   "source": [
    "# ciclar por un diccionario\n",
    "for i in midict1.items():\n",
    "    print(i)\n",
    "    print(type(i))"
   ]
  },
  {
   "cell_type": "code",
   "execution_count": 206,
   "metadata": {},
   "outputs": [
    {
     "name": "stdout",
     "output_type": "stream",
     "text": [
      "key1\n",
      "123\n",
      "key2\n",
      "[12, 23, 33]\n",
      "key3\n",
      "['item0', 'item1', 'item2']\n"
     ]
    }
   ],
   "source": [
    "# ciclar por un diccionario y deshacer el par en su llave y valor\n",
    "for ll,v in midict1.items():\n",
    "    print(ll)\n",
    "    print(v)"
   ]
  },
  {
   "cell_type": "markdown",
   "metadata": {},
   "source": [
    "#### ejemplo con diccionarios"
   ]
  },
  {
   "cell_type": "code",
   "execution_count": null,
   "metadata": {},
   "outputs": [],
   "source": [
    "## construir un base de datos de productos y sus precios\n",
    "## que pasa si hay subproductos dentro de una categoria?"
   ]
  },
  {
   "cell_type": "code",
   "execution_count": null,
   "metadata": {},
   "outputs": [],
   "source": []
  }
 ],
 "metadata": {
  "kernelspec": {
   "display_name": "Python 3",
   "language": "python",
   "name": "python3"
  },
  "language_info": {
   "codemirror_mode": {
    "name": "ipython",
    "version": 3
   },
   "file_extension": ".py",
   "mimetype": "text/x-python",
   "name": "python",
   "nbconvert_exporter": "python",
   "pygments_lexer": "ipython3",
   "version": "3.6.4"
  }
 },
 "nbformat": 4,
 "nbformat_minor": 2
}
