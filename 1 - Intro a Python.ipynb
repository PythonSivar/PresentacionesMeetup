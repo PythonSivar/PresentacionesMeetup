{
 "cells": [
  {
   "cell_type": "markdown",
   "metadata": {},
   "source": [
    "<h2><center>Python San Salvador Meetup </center></h2>\n",
    "<h1><center>Meetup 1 - Introducción a Python</center></h1>\n",
    "\n",
    "<p><center>Nota: Se basa partes de esta presentación en tutoriales de DjangoGirls (https://tutorial.djangogirls.org/es/)<center></p>"
   ]
  },
  {
   "cell_type": "markdown",
   "metadata": {},
   "source": [
    "---"
   ]
  },
  {
   "cell_type": "markdown",
   "metadata": {},
   "source": [
    "### Ventajas de Python\n",
    "- Se puede aprender el lenguaje rapidamente\n",
    "- Normalmente se usa menos código\n",
    "- Sintaxis es más fácil para leer\n",
    "- Se utiliza whitespaces en lugar de {} como otros lenguajes\n",
    "- Utilizado por cada compañía de tecnología\n",
    "- Existe un montón de librerías de código abierto\n"
   ]
  },
  {
   "cell_type": "markdown",
   "metadata": {},
   "source": [
    "---"
   ]
  },
  {
   "cell_type": "markdown",
   "metadata": {},
   "source": [
    "### Instalación de Python\n",
    "- Averiguar si ya tienes Python installado en tu computadora\n",
    "    - Ingresar \"python\" y pulsa \"enter\" dentro de la línea de comandos (Windows) o terminal (Mac)\n",
    "    - para ver la versión, ingresar \"python -V\"\n",
    "- Ver instucciones para su sistema operativo en https://tutorial.djangogirls.org/es/python_installation/\n",
    "    - Para Windows, averiguar que se ha agregado la ruta de archivo de Python como una variable de entorno (https://medium.com/@01luisrene/como-agregar-variables-de-entorno-s-o-windows-10-e7f38851f11f) \n",
    "- Python 2 vs 3\n",
    "    - Hay varias diferencias entre Python 2.7\n",
    "    - Hay apoyo para Python 3 para el programa que necesitarás? (ver http://py3readiness.org/)\n",
    "    - Si sos nuevo a Python y es un proyecto nuevo, recomendación es instalar Python 3\n",
    "    - A partir de 2020, se dejará de mantener Python 2.7\n",
    "\n",
    "\n",
    "- Otra opción - Descargar la distribución de Anaconda la que incluye Python más otras librerías útiles como Jupyter y Pandas (https://conda.io/docs/user-guide/install/download.html)\n",
    "    - Miniconda si no tienes mucho espacio en tu computadora\n"
   ]
  },
  {
   "cell_type": "markdown",
   "metadata": {},
   "source": [
    "---"
   ]
  },
  {
   "cell_type": "markdown",
   "metadata": {},
   "source": [
    "### Cómo se puede correr el código de Python\n",
    "\n",
    "- Entorno de desarrollo\n",
    "    - Editor de texto (Sublime Text, Atom, Visual Studio Code)\n",
    "    - Full IDEs (entorno de desarrollo integrado como Pycharm, Spyder)\n",
    "    - Entornos de Notebook (Jupyter - super útil para aprender... antes se llamaba IPython Notebook)\n",
    "- Prompt interactivo de Python\n",
    "    - Ingresar \"python\" o \"python3\" dentro de la línea de comandos o terminal para abrir el prompt interactivo de Python\n"
   ]
  },
  {
   "cell_type": "markdown",
   "metadata": {},
   "source": [
    "---"
   ]
  },
  {
   "cell_type": "markdown",
   "metadata": {},
   "source": [
    "<h2><center>Estructuras de Datos de Python </center></h2>\n",
    "\n",
    "<p><center>Nota: Se basa esta presentación en tutoriales por Jose Portilla (http://nbviewer.jupyter.org/github/jmportilla/Complete-Python-Bootcamp/tree/master/)<center></p>"
   ]
  },
  {
   "cell_type": "markdown",
   "metadata": {},
   "source": [
    "---"
   ]
  },
  {
   "cell_type": "markdown",
   "metadata": {},
   "source": [
    "## Números\n",
    "\n",
    "Vamos a cubrir:\n",
    "- Tipos de números en Python\n",
    "- Matemáticas básicas\n",
    "- Diferencia entre Python 2 y 3 con respecto a la división\n",
    "- Asignación de objetos a variables en Python"
   ]
  },
  {
   "cell_type": "code",
   "execution_count": 2,
   "metadata": {},
   "outputs": [
    {
     "data": {
      "text/plain": [
       "int"
      ]
     },
     "execution_count": 2,
     "metadata": {},
     "output_type": "execute_result"
    }
   ],
   "source": [
    "# tipos de números\n",
    "# integer\n",
    "type(2)"
   ]
  },
  {
   "cell_type": "code",
   "execution_count": 1,
   "metadata": {},
   "outputs": [
    {
     "data": {
      "text/plain": [
       "float"
      ]
     },
     "execution_count": 1,
     "metadata": {},
     "output_type": "execute_result"
    }
   ],
   "source": [
    "# tipos de números\n",
    "# floating point\n",
    "type(2.0)"
   ]
  },
  {
   "cell_type": "code",
   "execution_count": 8,
   "metadata": {},
   "outputs": [
    {
     "data": {
      "text/plain": [
       "4"
      ]
     },
     "execution_count": 8,
     "metadata": {},
     "output_type": "execute_result"
    }
   ],
   "source": [
    "# Adición\n",
    "3+1"
   ]
  },
  {
   "cell_type": "code",
   "execution_count": 10,
   "metadata": {
    "scrolled": true
   },
   "outputs": [
    {
     "name": "stdout",
     "output_type": "stream",
     "text": [
      "3.0999999999999996\n",
      " 3.1\n"
     ]
    }
   ],
   "source": [
    "# Resta\n",
    "'''la razón por qué no se devuelve el resultado esperado (i.e., 4.0) es porque computadoras representan los números\n",
    "de floating point como binarios y resulta que no es posible almacenar una fracción decimal precisa como binaria. A efectos \n",
    "prácticos, 3.09999999999999996 está \"lo suficientemente cerca\" como para 4.0. Si quisiera imprimirlo como 4.0, podría utilizar\n",
    "un formato de imprimir como: print \"% 0.1f\"% aunque se tiene que convertir el número a una cadena.\n",
    "'''\n",
    "print(4.1-1)\n",
    "\n",
    "x = 4.1-1\n",
    "print(\"% 0.1f\"%x)"
   ]
  },
  {
   "cell_type": "code",
   "execution_count": 8,
   "metadata": {},
   "outputs": [
    {
     "data": {
      "text/plain": [
       "Decimal('3.1')"
      ]
     },
     "execution_count": 8,
     "metadata": {},
     "output_type": "execute_result"
    }
   ],
   "source": [
    "# el módulo decimal proporciona soporte para una aritmética de floating point con decimales redondeadas correctamente.\n",
    "\n",
    "from decimal import *\n",
    "getcontext().prec = 2  # establecer la precisión de decimal\n",
    "x = decimal.Decimal(4.1)\n",
    "y = decimal.Decimal(1)\n",
    "x-y"
   ]
  },
  {
   "cell_type": "code",
   "execution_count": 9,
   "metadata": {},
   "outputs": [
    {
     "data": {
      "text/plain": [
       "0"
      ]
     },
     "execution_count": 9,
     "metadata": {},
     "output_type": "execute_result"
    }
   ],
   "source": [
    "# Multiplicación\n",
    "3*0"
   ]
  },
  {
   "cell_type": "code",
   "execution_count": 6,
   "metadata": {},
   "outputs": [
    {
     "data": {
      "text/plain": [
       "94480570084651033378614447036809239451885268016"
      ]
     },
     "execution_count": 6,
     "metadata": {},
     "output_type": "execute_result"
    }
   ],
   "source": [
    "# a diferencia de una calculadora, Python puede manejar cálculos mucho más grande\n",
    "120397402174309721304971209384*784739274921092974"
   ]
  },
  {
   "cell_type": "code",
   "execution_count": 19,
   "metadata": {},
   "outputs": [
    {
     "data": {
      "text/plain": [
       "1.3333333333333333"
      ]
     },
     "execution_count": 19,
     "metadata": {},
     "output_type": "execute_result"
    }
   ],
   "source": [
    "# División - división verdadera\n",
    "# según Python 3\n",
    "\n",
    "4/3"
   ]
  },
  {
   "cell_type": "code",
   "execution_count": 18,
   "metadata": {},
   "outputs": [
    {
     "data": {
      "text/plain": [
       "1"
      ]
     },
     "execution_count": 18,
     "metadata": {},
     "output_type": "execute_result"
    }
   ],
   "source": [
    "# División - división clásica\n",
    "# según python 2 - ie. 3/2 en python 2 = 1 (se trunca el .5)\n",
    "4//3"
   ]
  },
  {
   "cell_type": "code",
   "execution_count": 23,
   "metadata": {},
   "outputs": [
    {
     "data": {
      "text/plain": [
       "0"
      ]
     },
     "execution_count": 23,
     "metadata": {},
     "output_type": "execute_result"
    }
   ],
   "source": [
    "# residuo de la división con % (el modulo)\n",
    "10%2"
   ]
  },
  {
   "cell_type": "code",
   "execution_count": 11,
   "metadata": {},
   "outputs": [
    {
     "name": "stdout",
     "output_type": "stream",
     "text": [
      "Ingresar numero:4\n",
      "numero es par\n"
     ]
    }
   ],
   "source": [
    "# es par o impar\n",
    "\n",
    "x = float(input('Ingresar numero:' ))\n",
    "if x%2 == 1:\n",
    "    print('numero es impar')\n",
    "else:\n",
    "    print('numero es par')"
   ]
  },
  {
   "cell_type": "code",
   "execution_count": 28,
   "metadata": {},
   "outputs": [
    {
     "data": {
      "text/plain": [
       "16"
      ]
     },
     "execution_count": 28,
     "metadata": {},
     "output_type": "execute_result"
    }
   ],
   "source": [
    "# exponentes\n",
    "2**4"
   ]
  },
  {
   "cell_type": "code",
   "execution_count": 29,
   "metadata": {},
   "outputs": [
    {
     "data": {
      "text/plain": [
       "8.0"
      ]
     },
     "execution_count": 29,
     "metadata": {},
     "output_type": "execute_result"
    }
   ],
   "source": [
    "# raíz cuadrada sin importar el módulo de \"math\" - ver a continuación\n",
    "64**.5"
   ]
  },
  {
   "cell_type": "code",
   "execution_count": 12,
   "metadata": {},
   "outputs": [
    {
     "data": {
      "text/plain": [
       "13"
      ]
     },
     "execution_count": 12,
     "metadata": {},
     "output_type": "execute_result"
    }
   ],
   "source": [
    "# orden de operaciones\n",
    "3 + 5 *2"
   ]
  },
  {
   "cell_type": "code",
   "execution_count": 13,
   "metadata": {},
   "outputs": [
    {
     "data": {
      "text/plain": [
       "16"
      ]
     },
     "execution_count": 13,
     "metadata": {},
     "output_type": "execute_result"
    }
   ],
   "source": [
    "# se puede usar paréntesis para cambiar la orden de operaciones\n",
    "(3 + 5)*2"
   ]
  },
  {
   "cell_type": "code",
   "execution_count": 15,
   "metadata": {},
   "outputs": [
    {
     "name": "stdout",
     "output_type": "stream",
     "text": [
      "3.0\n",
      "3.141592653589793\n"
     ]
    }
   ],
   "source": [
    "# operaciones adicionales\n",
    "# importar un módulo de \"math\" para la raíz cuadrada o pi\n",
    "import math\n",
    "print(math.sqrt(9))\n",
    "print(math.pi)"
   ]
  },
  {
   "cell_type": "code",
   "execution_count": 21,
   "metadata": {},
   "outputs": [],
   "source": [
    "# Utilizar una variable para almacenar un numero\n",
    "\n",
    "respuesta = 4 * 5"
   ]
  },
  {
   "cell_type": "code",
   "execution_count": 22,
   "metadata": {},
   "outputs": [
    {
     "data": {
      "text/plain": [
       "20"
      ]
     },
     "execution_count": 22,
     "metadata": {},
     "output_type": "execute_result"
    }
   ],
   "source": [
    "respuesta"
   ]
  },
  {
   "cell_type": "code",
   "execution_count": 23,
   "metadata": {},
   "outputs": [],
   "source": [
    "# cambiar la variable\n",
    "respuesta = respuesta + respuesta"
   ]
  },
  {
   "cell_type": "code",
   "execution_count": 24,
   "metadata": {},
   "outputs": [
    {
     "data": {
      "text/plain": [
       "40"
      ]
     },
     "execution_count": 24,
     "metadata": {},
     "output_type": "execute_result"
    }
   ],
   "source": [
    "respuesta\n"
   ]
  },
  {
   "cell_type": "markdown",
   "metadata": {},
   "source": [
    "#### ejemplo de números"
   ]
  },
  {
   "cell_type": "code",
   "execution_count": 42,
   "metadata": {},
   "outputs": [],
   "source": [
    "# calcular el ISR\n",
    "# la renta\n",
    "renta = 5000"
   ]
  },
  {
   "cell_type": "code",
   "execution_count": 44,
   "metadata": {},
   "outputs": [],
   "source": [
    "# tasa de impuesto sobre la renta\n",
    "tasa = .1"
   ]
  },
  {
   "cell_type": "code",
   "execution_count": 46,
   "metadata": {},
   "outputs": [
    {
     "data": {
      "text/plain": [
       "500.0"
      ]
     },
     "execution_count": 46,
     "metadata": {},
     "output_type": "execute_result"
    }
   ],
   "source": [
    "# lo que debo\n",
    "debo = renta*tasa\n",
    "debo"
   ]
  },
  {
   "cell_type": "markdown",
   "metadata": {},
   "source": [
    "---"
   ]
  },
  {
   "cell_type": "markdown",
   "metadata": {},
   "source": [
    "## Strings\n",
    "- Se usa para registrar información en una forma de texto, como nombres\n",
    "- Strings en realidad se tratan como secuencias, lo que básicamente significa que Python realiza un seguimiento de cada elemento de la cadena como una secuencia. \n",
    "    - Por ejemplo, Python entiende que la string \"hola\" es una secuencia de letras en un orden específico lo que significa que podremos usar la indexación para tomar letras en particular (como la primera letra o la última).\n",
    "    \n",
    "Vamos a cubrir:\n",
    "- Crear strings\n",
    "- Imprimir strings\n",
    "- Diferencia entre Python 2 y 3 con respecto a imprimir\n",
    "- Indización y corte de strings\n",
    "- Propiedades de strings\n",
    "- Métodos de cadena"
   ]
  },
  {
   "cell_type": "markdown",
   "metadata": {},
   "source": [
    "---"
   ]
  },
  {
   "cell_type": "code",
   "execution_count": 25,
   "metadata": {},
   "outputs": [
    {
     "name": "stdout",
     "output_type": "stream",
     "text": [
      "hola\n",
      "mundo\n"
     ]
    }
   ],
   "source": [
    "# para crear, utilizar comillas simples o dobles\n",
    "x = 'hola'\n",
    "x1 = \"mundo\"\n",
    "print(x)\n",
    "print(x1)"
   ]
  },
  {
   "cell_type": "code",
   "execution_count": 40,
   "metadata": {},
   "outputs": [
    {
     "ename": "SyntaxError",
     "evalue": "EOL while scanning string literal (<ipython-input-40-981665e08da1>, line 3)",
     "output_type": "error",
     "traceback": [
      "\u001b[1;36m  File \u001b[1;32m\"<ipython-input-40-981665e08da1>\"\u001b[1;36m, line \u001b[1;32m3\u001b[0m\n\u001b[1;33m    \"hola'\u001b[0m\n\u001b[1;37m          ^\u001b[0m\n\u001b[1;31mSyntaxError\u001b[0m\u001b[1;31m:\u001b[0m EOL while scanning string literal\n"
     ]
    }
   ],
   "source": [
    "# se debe ser consistente con el uso de comillas simples o comillas dobles\n",
    "# si no, sale un error porque Python no puede encontrar el fin esperado de la línea del código\n",
    "\"hola'"
   ]
  },
  {
   "cell_type": "code",
   "execution_count": 26,
   "metadata": {},
   "outputs": [
    {
     "data": {
      "text/plain": [
       "str"
      ]
     },
     "execution_count": 26,
     "metadata": {},
     "output_type": "execute_result"
    }
   ],
   "source": [
    "# usar la función integrada de \"str\" para convertir un objeto a una cadena\n",
    "type(str(5.0))"
   ]
  },
  {
   "cell_type": "code",
   "execution_count": 27,
   "metadata": {},
   "outputs": [
    {
     "data": {
      "text/plain": [
       "'holamundo'"
      ]
     },
     "execution_count": 27,
     "metadata": {},
     "output_type": "execute_result"
    }
   ],
   "source": [
    "# se puede concatenar cadenas con el signo más\n",
    "x+x1"
   ]
  },
  {
   "cell_type": "code",
   "execution_count": 29,
   "metadata": {},
   "outputs": [],
   "source": [
    "# palabra o frase\n",
    "f = 'hola mundo, es un gusto conocerte'"
   ]
  },
  {
   "cell_type": "code",
   "execution_count": 30,
   "metadata": {},
   "outputs": [
    {
     "data": {
      "text/plain": [
       "'hola mundo, es un gusto conocerte'"
      ]
     },
     "execution_count": 30,
     "metadata": {},
     "output_type": "execute_result"
    }
   ],
   "source": [
    "f"
   ]
  },
  {
   "cell_type": "code",
   "execution_count": 39,
   "metadata": {},
   "outputs": [
    {
     "ename": "SyntaxError",
     "evalue": "invalid syntax (<ipython-input-39-f9fadbcf7a83>, line 6)",
     "output_type": "error",
     "traceback": [
      "\u001b[1;36m  File \u001b[1;32m\"<ipython-input-39-f9fadbcf7a83>\"\u001b[1;36m, line \u001b[1;32m6\u001b[0m\n\u001b[1;33m    d = 'Today's date is the 17 of march'\u001b[0m\n\u001b[1;37m               ^\u001b[0m\n\u001b[1;31mSyntaxError\u001b[0m\u001b[1;31m:\u001b[0m invalid syntax\n"
     ]
    }
   ],
   "source": [
    "# ten cuidado con las comillas (más que todo en ingles y el uso del apóstrofe)\n",
    "\n",
    "f = 'La fecha de hoy es el 17 de marzo'\n",
    "print(f)\n",
    "\n",
    "d = 'Today's date is the 17 of march'\n",
    "print(d)\n",
    "\n"
   ]
  },
  {
   "cell_type": "code",
   "execution_count": 50,
   "metadata": {},
   "outputs": [
    {
     "data": {
      "text/plain": [
       "\"Today's date is the 17 of march\""
      ]
     },
     "execution_count": 50,
     "metadata": {},
     "output_type": "execute_result"
    }
   ],
   "source": [
    "# para utilzar un apóstrofe dentro de una cadena, hay que crear la cadena con comillas dobles en vez de comillas simples\n",
    "d = \"Today's date is the 17 of march\"\n",
    "d"
   ]
  },
  {
   "cell_type": "code",
   "execution_count": 52,
   "metadata": {},
   "outputs": [
    {
     "data": {
      "text/plain": [
       "31"
      ]
     },
     "execution_count": 52,
     "metadata": {},
     "output_type": "execute_result"
    }
   ],
   "source": [
    "# longitud de una string\n",
    "len(d)"
   ]
  },
  {
   "cell_type": "code",
   "execution_count": 46,
   "metadata": {},
   "outputs": [
    {
     "name": "stdout",
     "output_type": "stream",
     "text": [
      "La fecha de hoy es el 17 de marzo\n",
      "64\n"
     ]
    }
   ],
   "source": [
    "# imprimir strings (y en realidad otros objetos como números)\n",
    "print(f)\n",
    "print(8**2)"
   ]
  },
  {
   "cell_type": "code",
   "execution_count": 47,
   "metadata": {},
   "outputs": [
    {
     "ename": "SyntaxError",
     "evalue": "Missing parentheses in call to 'print'. Did you mean print(f)? (<ipython-input-47-f9f57446fb16>, line 4)",
     "output_type": "error",
     "traceback": [
      "\u001b[1;36m  File \u001b[1;32m\"<ipython-input-47-f9f57446fb16>\"\u001b[1;36m, line \u001b[1;32m4\u001b[0m\n\u001b[1;33m    print f\u001b[0m\n\u001b[1;37m          ^\u001b[0m\n\u001b[1;31mSyntaxError\u001b[0m\u001b[1;31m:\u001b[0m Missing parentheses in call to 'print'. Did you mean print(f)?\n"
     ]
    }
   ],
   "source": [
    "# imprimir en Python 2 vs 3\n",
    "# una de las diferencias más notables\n",
    "\n",
    "print f"
   ]
  },
  {
   "cell_type": "code",
   "execution_count": 48,
   "metadata": {},
   "outputs": [
    {
     "name": "stdout",
     "output_type": "stream",
     "text": [
      "Hello world\n"
     ]
    }
   ],
   "source": [
    "# si estás usando Python 2 pero quieres que sea compatible con Python 3, se puede utilzar el módulo de __future__\n",
    "from __future__ import print_function\n",
    "print(\"Hello world\")"
   ]
  },
  {
   "cell_type": "code",
   "execution_count": 56,
   "metadata": {},
   "outputs": [],
   "source": [
    "# asignar una string a una variable\n",
    "hh = 'hola'"
   ]
  },
  {
   "cell_type": "code",
   "execution_count": 32,
   "metadata": {},
   "outputs": [
    {
     "data": {
      "text/plain": [
       "'hola'"
      ]
     },
     "execution_count": 32,
     "metadata": {},
     "output_type": "execute_result"
    }
   ],
   "source": [
    "hh"
   ]
  },
  {
   "cell_type": "code",
   "execution_count": 57,
   "metadata": {},
   "outputs": [
    {
     "data": {
      "text/plain": [
       "'a'"
      ]
     },
     "execution_count": 57,
     "metadata": {},
     "output_type": "execute_result"
    }
   ],
   "source": [
    "# indización una string\n",
    "# OJO: en Python, se empieza desde 0, no 1, y se incluye todo hasta el último indice (osea, es exclusivo, no inclusivo)\n",
    "\n",
    "hh[3]"
   ]
  },
  {
   "cell_type": "code",
   "execution_count": 58,
   "metadata": {},
   "outputs": [
    {
     "data": {
      "text/plain": [
       "'h'"
      ]
     },
     "execution_count": 58,
     "metadata": {},
     "output_type": "execute_result"
    }
   ],
   "source": [
    "# agarrar la primera letra\n",
    "hh[0]"
   ]
  },
  {
   "cell_type": "code",
   "execution_count": 59,
   "metadata": {},
   "outputs": [
    {
     "data": {
      "text/plain": [
       "'a'"
      ]
     },
     "execution_count": 59,
     "metadata": {},
     "output_type": "execute_result"
    }
   ],
   "source": [
    "# agarrar la última letra\n",
    "hh[3]"
   ]
  },
  {
   "cell_type": "code",
   "execution_count": 60,
   "metadata": {},
   "outputs": [
    {
     "data": {
      "text/plain": [
       "'a'"
      ]
     },
     "execution_count": 60,
     "metadata": {},
     "output_type": "execute_result"
    }
   ],
   "source": [
    "# Última letra (desde de la indice de 0 empezamos a contar al reves)\n",
    "# se puede indizar de la izquierda a derecha 0, 1, 2, 3, 4, etc\n",
    "# o se puede indizar de la derecha a la izquierda -1, -2, -3, -4, etc\n",
    "hh[-1]"
   ]
  },
  {
   "cell_type": "code",
   "execution_count": 63,
   "metadata": {},
   "outputs": [
    {
     "data": {
      "text/plain": [
       "'o'"
      ]
     },
     "execution_count": 63,
     "metadata": {},
     "output_type": "execute_result"
    }
   ],
   "source": [
    "hh[-3]"
   ]
  },
  {
   "cell_type": "code",
   "execution_count": 66,
   "metadata": {},
   "outputs": [
    {
     "data": {
      "text/plain": [
       "'a'"
      ]
     },
     "execution_count": 66,
     "metadata": {},
     "output_type": "execute_result"
    }
   ],
   "source": [
    "# se puede indizar con una variable\n",
    "i = 3\n",
    "hh[i]"
   ]
  },
  {
   "cell_type": "code",
   "execution_count": 67,
   "metadata": {},
   "outputs": [
    {
     "data": {
      "text/plain": [
       "'hola'"
      ]
     },
     "execution_count": 67,
     "metadata": {},
     "output_type": "execute_result"
    }
   ],
   "source": [
    "# fíjate que no se cambia la variable original\n",
    "hh"
   ]
  },
  {
   "cell_type": "code",
   "execution_count": 80,
   "metadata": {},
   "outputs": [
    {
     "name": "stdout",
     "output_type": "stream",
     "text": [
      "bola\n",
      "ola\n",
      "bol\n",
      "bl\n",
      "alob\n"
     ]
    }
   ],
   "source": [
    "# se puede cortar un rango de elementos con los dos puntos\n",
    "# el primer indice es inclusivo y representa donde se empieza\n",
    "# el segundo indice es exclusivo y representa el último indice no inclusivo\n",
    "# el tercer indice representa el incremento usado para navegar la secuencia\n",
    "\n",
    "print(hh[:])       # se devuelve todo\n",
    "print(hh[1:])      # se devuelve todo salvo la primera letra\n",
    "print(hh[:-1])     # se devuelve todo salvo la última letra\n",
    "print(hh[::2])     # se devuelve cada otra letra... \n",
    "print(hh[::-1])    # un sintaxis para invertir una cadena"
   ]
  },
  {
   "cell_type": "code",
   "execution_count": 54,
   "metadata": {},
   "outputs": [
    {
     "name": "stdout",
     "output_type": "stream",
     "text": [
      "8\n",
      "o\n",
      "e\n"
     ]
    },
    {
     "ename": "IndexError",
     "evalue": "string index out of range",
     "output_type": "error",
     "traceback": [
      "\u001b[1;31m---------------------------------------------------------------------------\u001b[0m",
      "\u001b[1;31mIndexError\u001b[0m                                Traceback (most recent call last)",
      "\u001b[1;32m<ipython-input-54-5ebc5e6f1f7f>\u001b[0m in \u001b[0;36m<module>\u001b[1;34m()\u001b[0m\n\u001b[0;32m      4\u001b[0m \u001b[0mprint\u001b[0m\u001b[1;33m(\u001b[0m\u001b[0mss\u001b[0m\u001b[1;33m[\u001b[0m\u001b[1;36m7\u001b[0m\u001b[1;33m]\u001b[0m\u001b[1;33m)\u001b[0m\u001b[1;33m\u001b[0m\u001b[0m\n\u001b[0;32m      5\u001b[0m \u001b[0mprint\u001b[0m\u001b[1;33m(\u001b[0m\u001b[0mss\u001b[0m\u001b[1;33m[\u001b[0m\u001b[1;36m2\u001b[0m\u001b[1;33m]\u001b[0m\u001b[1;33m)\u001b[0m\u001b[1;33m\u001b[0m\u001b[0m\n\u001b[1;32m----> 6\u001b[1;33m \u001b[0mprint\u001b[0m\u001b[1;33m(\u001b[0m\u001b[0mss\u001b[0m\u001b[1;33m[\u001b[0m\u001b[1;36m8\u001b[0m\u001b[1;33m]\u001b[0m\u001b[1;33m)\u001b[0m\u001b[1;33m\u001b[0m\u001b[0m\n\u001b[0m",
      "\u001b[1;31mIndexError\u001b[0m: string index out of range"
     ]
    }
   ],
   "source": [
    "# no se puede indizar un elemento con un indice fuera del rango de la cadena (i.e., la cantidad de letras menos 1)\n",
    "ss = \"elemento\"\n",
    "print(len(ss))    # según la función de len, el indice máximo sería 7\n",
    "print(ss[7])\n",
    "print(ss[2])\n",
    "print(ss[8])"
   ]
  },
  {
   "cell_type": "code",
   "execution_count": 73,
   "metadata": {},
   "outputs": [
    {
     "ename": "TypeError",
     "evalue": "'str' object does not support item assignment",
     "output_type": "error",
     "traceback": [
      "\u001b[1;31m---------------------------------------------------------------------------\u001b[0m",
      "\u001b[1;31mTypeError\u001b[0m                                 Traceback (most recent call last)",
      "\u001b[1;32m<ipython-input-73-ea31ca28771d>\u001b[0m in \u001b[0;36m<module>\u001b[1;34m()\u001b[0m\n\u001b[0;32m      1\u001b[0m \u001b[1;31m# strings son inmutables (no se puede editar)\u001b[0m\u001b[1;33m\u001b[0m\u001b[1;33m\u001b[0m\u001b[0m\n\u001b[0;32m      2\u001b[0m \u001b[0mhh\u001b[0m \u001b[1;33m=\u001b[0m \u001b[1;34m'cola'\u001b[0m\u001b[1;33m\u001b[0m\u001b[0m\n\u001b[1;32m----> 3\u001b[1;33m \u001b[0mhh\u001b[0m\u001b[1;33m[\u001b[0m\u001b[1;36m0\u001b[0m\u001b[1;33m]\u001b[0m \u001b[1;33m=\u001b[0m \u001b[1;34m'b'\u001b[0m\u001b[1;33m\u001b[0m\u001b[0m\n\u001b[0m",
      "\u001b[1;31mTypeError\u001b[0m: 'str' object does not support item assignment"
     ]
    }
   ],
   "source": [
    "# strings son inmutables (no se puede editar)\n",
    "hh = 'cola'\n",
    "hh[0] = 'b'"
   ]
  },
  {
   "cell_type": "code",
   "execution_count": 75,
   "metadata": {},
   "outputs": [
    {
     "data": {
      "text/plain": [
       "'bola'"
      ]
     },
     "execution_count": 75,
     "metadata": {},
     "output_type": "execute_result"
    }
   ],
   "source": [
    "# strings son inmutables -- para cambiar, hay que reemplazar la cadena original\n",
    "hh = 'cola'\n",
    "hh = 'b'+hh[1:]\n",
    "hh"
   ]
  },
  {
   "cell_type": "code",
   "execution_count": 52,
   "metadata": {},
   "outputs": [
    {
     "data": {
      "text/plain": [
       "'colaLa fecha de hoy es el 17 de marzo'"
      ]
     },
     "execution_count": 52,
     "metadata": {},
     "output_type": "execute_result"
    }
   ],
   "source": [
    "# concatenar strings\n",
    "hh+f"
   ]
  },
  {
   "cell_type": "code",
   "execution_count": 53,
   "metadata": {},
   "outputs": [
    {
     "data": {
      "text/plain": [
       "'colacolacolacola'"
      ]
     },
     "execution_count": 53,
     "metadata": {},
     "output_type": "execute_result"
    }
   ],
   "source": [
    "# repetir una string con el símbolo de multiplicación\n",
    "hh*4"
   ]
  },
  {
   "cell_type": "code",
   "execution_count": 72,
   "metadata": {},
   "outputs": [
    {
     "name": "stdout",
     "output_type": "stream",
     "text": [
      "hola\n",
      "HOLA\n",
      "Hola\n",
      "True\n",
      "True\n"
     ]
    }
   ],
   "source": [
    "# metodos de strings\n",
    "# son funciones integradas dentro de python especificamente para cadenas\n",
    "# Mayúscula y minúscula\n",
    "print(hh.lower())\n",
    "print(hh.upper())\n",
    "print(hh.capitalize())\n",
    "print(hh.isalpha())    # averiguar si el objeto se compone solo de letras\n",
    "print(hh.isalnum())    # averiguar si el objeto es alfanumerico"
   ]
  },
  {
   "cell_type": "code",
   "execution_count": 81,
   "metadata": {},
   "outputs": [
    {
     "data": {
      "text/plain": [
       "'christopher'"
      ]
     },
     "execution_count": 81,
     "metadata": {},
     "output_type": "execute_result"
    }
   ],
   "source": [
    "## la habilidad de manipular cadenas puede ser útil si necesitas extraer información de un montón de datos de texto\n",
    "## por ejemplo, si necesitas extraer todos los nombres de un listado de direcciones de correo, se puede utilizar la función\n",
    "## integrada de \"split\" y usar la arroba para separar los elementos\n",
    "email ='christopher.jetter@gmail.com'\n",
    "email.split('@')[0].split('.')[0]"
   ]
  },
  {
   "cell_type": "code",
   "execution_count": 59,
   "metadata": {},
   "outputs": [
    {
     "data": {
      "text/plain": [
       "['fecha', 'de', 'hoy', 'es', 'el', '17', 'de', 'marzo']"
      ]
     },
     "execution_count": 59,
     "metadata": {},
     "output_type": "execute_result"
    }
   ],
   "source": [
    "# separar una frase en palabras individuales\n",
    "# ojo que se devuelve el primer objeto que vamos a discutir - una lista\n",
    "f.split()[1:]"
   ]
  },
  {
   "cell_type": "markdown",
   "metadata": {},
   "source": [
    "#### ejemplo de strings"
   ]
  },
  {
   "cell_type": "code",
   "execution_count": 84,
   "metadata": {},
   "outputs": [
    {
     "name": "stdout",
     "output_type": "stream",
     "text": [
      "Ingresar tu primer nombre: Joseph\n"
     ]
    }
   ],
   "source": [
    "# !ALOH -- un saludo un poco al reves\n",
    "# pedir al usuario ingresar su nombre y saludarlo al reves\n",
    "# se utilizará función incorporada de input() lo que permite el usuario ingresar información para ser utilizado por el script\n",
    "nombre = input('Ingresar tu primer nombre: ',)\n"
   ]
  },
  {
   "cell_type": "code",
   "execution_count": 86,
   "metadata": {},
   "outputs": [
    {
     "data": {
      "text/plain": [
       "'p'"
      ]
     },
     "execution_count": 86,
     "metadata": {},
     "output_type": "execute_result"
    }
   ],
   "source": [
    "# como podemos indizar desde el final?\n",
    "nombre[-1]\n",
    "# agarrar la ultima letra\n",
    "nombre[-1]\n",
    "# agarra la penultima letra\n",
    "nombre[-2]"
   ]
  },
  {
   "cell_type": "code",
   "execution_count": 87,
   "metadata": {},
   "outputs": [
    {
     "data": {
      "text/plain": [
       "6"
      ]
     },
     "execution_count": 87,
     "metadata": {},
     "output_type": "execute_result"
    }
   ],
   "source": [
    "# cuantas letras tenemos que pasar por llegar al principio del nombre?\n",
    "len(nombre)"
   ]
  },
  {
   "cell_type": "code",
   "execution_count": 88,
   "metadata": {},
   "outputs": [
    {
     "name": "stdout",
     "output_type": "stream",
     "text": [
      "h\n",
      "o\n",
      "l\n",
      "a\n"
     ]
    }
   ],
   "source": [
    "# utilzar un bucle para ciclar por una secuencia\n",
    "# ejemplo simple - imprimir cada letra de 'hola'\n",
    "\n",
    "for i in 'hola':\n",
    "    print(i)"
   ]
  },
  {
   "cell_type": "code",
   "execution_count": 89,
   "metadata": {},
   "outputs": [
    {
     "name": "stdout",
     "output_type": "stream",
     "text": [
      "h\n",
      "p\n",
      "e\n",
      "s\n",
      "o\n",
      "J\n",
      "Ya!\n"
     ]
    }
   ],
   "source": [
    "# solución (una de varias)\n",
    "indice = -1\n",
    "for letra in nombre:\n",
    "    print(nombre[indice])\n",
    "    indice = indice - 1\n",
    "\n",
    "print('Ya!')"
   ]
  },
  {
   "cell_type": "code",
   "execution_count": 90,
   "metadata": {},
   "outputs": [
    {
     "name": "stdout",
     "output_type": "stream",
     "text": [
      "h\n",
      "p\n",
      "e\n",
      "s\n",
      "o\n",
      "J\n",
      "Ya!\n"
     ]
    }
   ],
   "source": [
    "# otra solución\n",
    "reves = nombre[::-1] # agarrar todo pero con un incremento de -1\n",
    "for i in reves:\n",
    "    print(i)\n",
    "\n",
    "print('Ya!')"
   ]
  },
  {
   "cell_type": "code",
   "execution_count": 97,
   "metadata": {},
   "outputs": [
    {
     "name": "stdout",
     "output_type": "stream",
     "text": [
      "97\n"
     ]
    }
   ],
   "source": [
    "## Un tema central de Python es escribir código \"Pythonic\" \n",
    "## por ejemplo, deberíamos tratar de encontrar la solución más simple que complicada\n",
    "import this\n"
   ]
  },
  {
   "cell_type": "markdown",
   "metadata": {},
   "source": [
    "---"
   ]
  },
  {
   "cell_type": "markdown",
   "metadata": {},
   "source": [
    "## Listas\n",
    "- Se construye listas con corchetes [] y se separa cada elemento con comas\n",
    "- Se representa la versión más general de una secuencia en Python\n",
    "- A diferencia de las strings, son mutables, lo que significa que los elementos dentro de una lista se pueden cambiar.\n",
    "\n",
    "Vamos a cubrir:\n",
    "- Crear listas\n",
    "- Indización de listas\n",
    "- Cortar una lista\n",
    "- Métodos básicos de la lista\n",
    "- Listas anidada"
   ]
  },
  {
   "cell_type": "code",
   "execution_count": 98,
   "metadata": {},
   "outputs": [],
   "source": [
    "# crear una lista con []\n",
    "l = ['a','b','c']"
   ]
  },
  {
   "cell_type": "code",
   "execution_count": 103,
   "metadata": {},
   "outputs": [
    {
     "data": {
      "text/plain": [
       "['a', 'b', 'c']"
      ]
     },
     "execution_count": 103,
     "metadata": {},
     "output_type": "execute_result"
    }
   ],
   "source": [
    "# crear una lista con list()\n",
    "ll = list(('a','b','c'))\n",
    "ll"
   ]
  },
  {
   "cell_type": "code",
   "execution_count": 104,
   "metadata": {},
   "outputs": [
    {
     "data": {
      "text/plain": [
       "['a', 'b', 'c']"
      ]
     },
     "execution_count": 104,
     "metadata": {},
     "output_type": "execute_result"
    }
   ],
   "source": [
    "# crear una lista con list()\n",
    "# se puede crear una lista aun más rapido por pasar la cadena entera. Python la divide automaticamente\n",
    "ll = list(\"abc\")\n",
    "ll"
   ]
  },
  {
   "cell_type": "code",
   "execution_count": 123,
   "metadata": {},
   "outputs": [
    {
     "data": {
      "text/plain": [
       "['string', 11, 1.3, False, 1.0]"
      ]
     },
     "execution_count": 123,
     "metadata": {},
     "output_type": "execute_result"
    }
   ],
   "source": [
    "# una lista se puede componer de varios tipos de objetos de Python\n",
    "# una lista de un integer, floating point, strings, boolean, una expresión matematica\n",
    "\n",
    "l2 = [\"string\",11,1.3,False,4/4]\n",
    "l2"
   ]
  },
  {
   "cell_type": "code",
   "execution_count": 107,
   "metadata": {},
   "outputs": [
    {
     "data": {
      "text/plain": [
       "'string'"
      ]
     },
     "execution_count": 107,
     "metadata": {},
     "output_type": "execute_result"
    }
   ],
   "source": [
    "# Indización de lista\n",
    "# agarrar el primer elemento\n",
    "l2[0]"
   ]
  },
  {
   "cell_type": "code",
   "execution_count": 108,
   "metadata": {},
   "outputs": [
    {
     "data": {
      "text/plain": [
       "False"
      ]
     },
     "execution_count": 108,
     "metadata": {},
     "output_type": "execute_result"
    }
   ],
   "source": [
    "# agarrar el último elemento\n",
    "l2[-1]"
   ]
  },
  {
   "cell_type": "code",
   "execution_count": 110,
   "metadata": {},
   "outputs": [
    {
     "data": {
      "text/plain": [
       "[11, 1.3, False, 1.0]"
      ]
     },
     "execution_count": 110,
     "metadata": {},
     "output_type": "execute_result"
    }
   ],
   "source": [
    "# agarrar todos los elementos salvo el primero\n",
    "l2[1:]"
   ]
  },
  {
   "cell_type": "code",
   "execution_count": 112,
   "metadata": {},
   "outputs": [
    {
     "data": {
      "text/plain": [
       "['string', 11, 1.3, False, 1.0, 1, 2, 4]"
      ]
     },
     "execution_count": 112,
     "metadata": {},
     "output_type": "execute_result"
    }
   ],
   "source": [
    "# concatenar una lista\n",
    "mylist = [1,2,4]\n",
    "l2+mylist"
   ]
  },
  {
   "cell_type": "code",
   "execution_count": 113,
   "metadata": {},
   "outputs": [
    {
     "data": {
      "text/plain": [
       "['string', 11, 1.3, False, 1.0]"
      ]
     },
     "execution_count": 113,
     "metadata": {},
     "output_type": "execute_result"
    }
   ],
   "source": [
    "# la lista original permanece sin cambios\n",
    "l2"
   ]
  },
  {
   "cell_type": "code",
   "execution_count": 125,
   "metadata": {},
   "outputs": [
    {
     "data": {
      "text/plain": [
       "['new string', 11, 1.3, False, 1.0, 'new elemento']"
      ]
     },
     "execution_count": 125,
     "metadata": {},
     "output_type": "execute_result"
    }
   ],
   "source": [
    "# listas son mutables asi que se puede actualizar cualquier elemento de la lista o agregar/quitar elementos\n",
    "# el cambio es permanente\n",
    "l2[0] = \"new string\"\n",
    "l2"
   ]
  },
  {
   "cell_type": "code",
   "execution_count": 117,
   "metadata": {},
   "outputs": [
    {
     "data": {
      "text/plain": [
       "['new string', 11, 1.3, False, 1.0]"
      ]
     },
     "execution_count": 117,
     "metadata": {},
     "output_type": "execute_result"
    }
   ],
   "source": [
    "# el cambio es permanente\n",
    "l2"
   ]
  },
  {
   "cell_type": "code",
   "execution_count": 124,
   "metadata": {},
   "outputs": [
    {
     "data": {
      "text/plain": [
       "['string', 11, 1.3, False, 1.0, 'new elemento']"
      ]
     },
     "execution_count": 124,
     "metadata": {},
     "output_type": "execute_result"
    }
   ],
   "source": [
    "# adjuntar otro elemento a la lista con append()\n",
    "l2.append(\"new elemento\")\n",
    "l2"
   ]
  },
  {
   "cell_type": "code",
   "execution_count": 126,
   "metadata": {},
   "outputs": [
    {
     "data": {
      "text/plain": [
       "['new string', 11, 1.3, False, 1.0]"
      ]
     },
     "execution_count": 126,
     "metadata": {},
     "output_type": "execute_result"
    }
   ],
   "source": [
    "# quitar elemento de la lista con pop()\n",
    "l2.pop()   # por defecto pop() quita el último elemento \n",
    "l2"
   ]
  },
  {
   "cell_type": "code",
   "execution_count": 122,
   "metadata": {},
   "outputs": [
    {
     "data": {
      "text/plain": [
       "[1.3, False, 1.0]"
      ]
     },
     "execution_count": 122,
     "metadata": {},
     "output_type": "execute_result"
    }
   ],
   "source": [
    "# por defecto pop() quita el último elemento pero se puede especificar cual elemento deseas quitar por su indice\n",
    "l2.pop(0)\n",
    "l2"
   ]
  },
  {
   "cell_type": "markdown",
   "metadata": {},
   "source": [
    "---"
   ]
  },
  {
   "cell_type": "markdown",
   "metadata": {},
   "source": [
    "### Tips\n",
    "- Dentro de jupyter, se puede utilizar ciertas pulsaciones de teclas para recibir más información sobre los detalles de cualquier elemento de Python\n",
    "    - pulsar tab == > completar el código\n",
    "    - pulsar tab despues del punto tras un objeto de Python == > mostrar todos los métodos posibles del objeto\n",
    "        - Por ejemplo, miLista = [1,2,3] == > al pulsar tab después de escribir \"mylista.\", te va a mostrar el sistema todos las opciones de métodos para listas (e.g., append, pop, sort, etc.)\n",
    "    - pulsar tab + shift == > mostar un tooltip con la documentación (docstring)\n",
    "\n",
    "- Dentro de jupyter y del prompt interactiva de Python, se puede usar \"help() para recibir más información sobre los detalles de cualquier elemento de Python"
   ]
  },
  {
   "cell_type": "markdown",
   "metadata": {},
   "source": [
    "---"
   ]
  },
  {
   "cell_type": "code",
   "execution_count": 137,
   "metadata": {},
   "outputs": [],
   "source": [
    "listaA = ['a','e','B','x','b','c']\n",
    "lista1 = [10,4,6,2,2.0,9,1]"
   ]
  },
  {
   "cell_type": "code",
   "execution_count": 130,
   "metadata": {},
   "outputs": [
    {
     "data": {
      "text/plain": [
       "['c', 'b', 'x', 'B', 'e', 'a']"
      ]
     },
     "execution_count": 130,
     "metadata": {},
     "output_type": "execute_result"
    }
   ],
   "source": [
    "# revetir la orden\n",
    "# OJO - es permanente... listas son mutable\n",
    "listaA.reverse()\n",
    "listaA\n"
   ]
  },
  {
   "cell_type": "code",
   "execution_count": 131,
   "metadata": {},
   "outputs": [
    {
     "data": {
      "text/plain": [
       "['B', 'a', 'b', 'c', 'e', 'x']"
      ]
     },
     "execution_count": 131,
     "metadata": {},
     "output_type": "execute_result"
    }
   ],
   "source": [
    "# ordenar la lista\n",
    "# letras --- 'A' a 'Z' luego 'a' a 'z'\n",
    "# OJO - es permanente... listas son mutable\n",
    "listaA.sort()\n",
    "listaA"
   ]
  },
  {
   "cell_type": "code",
   "execution_count": 138,
   "metadata": {},
   "outputs": [
    {
     "data": {
      "text/plain": [
       "[1, 2, 2.0, 4, 6, 9, 10]"
      ]
     },
     "execution_count": 138,
     "metadata": {},
     "output_type": "execute_result"
    }
   ],
   "source": [
    "# ordenar la lista\n",
    "# numeros --- 1, 2, 3, etc\n",
    "# OJO - es permanente... listas son mutables\n",
    "lista1.sort()\n",
    "lista1"
   ]
  },
  {
   "cell_type": "code",
   "execution_count": 139,
   "metadata": {},
   "outputs": [],
   "source": [
    "# Listas anidada\n",
    "# hacemos tres listas separadas\n",
    "lst1 = list(\"abc\")\n",
    "lst2 = list(\"def\")\n",
    "lst3 = list(\"ghi\")"
   ]
  },
  {
   "cell_type": "code",
   "execution_count": 140,
   "metadata": {},
   "outputs": [],
   "source": [
    "# hacemos una lista de las tres listas... una matriz\n",
    "matriz = [lst1, lst2, lst3]"
   ]
  },
  {
   "cell_type": "code",
   "execution_count": 141,
   "metadata": {},
   "outputs": [
    {
     "data": {
      "text/plain": [
       "[['a', 'b', 'c'], ['d', 'e', 'f'], ['g', 'h', 'i']]"
      ]
     },
     "execution_count": 141,
     "metadata": {},
     "output_type": "execute_result"
    }
   ],
   "source": [
    "#mostrar la matriz\n",
    "matriz"
   ]
  },
  {
   "cell_type": "code",
   "execution_count": 142,
   "metadata": {},
   "outputs": [
    {
     "data": {
      "text/plain": [
       "['d', 'e', 'f']"
      ]
     },
     "execution_count": 142,
     "metadata": {},
     "output_type": "execute_result"
    }
   ],
   "source": [
    "# agarrar el segundo elemento de la matriz\n",
    "matriz[1]"
   ]
  },
  {
   "cell_type": "code",
   "execution_count": 143,
   "metadata": {},
   "outputs": [
    {
     "data": {
      "text/plain": [
       "'e'"
      ]
     },
     "execution_count": 143,
     "metadata": {},
     "output_type": "execute_result"
    }
   ],
   "source": [
    "# agarrar el segundo elemento del segundo elemento de la matriz\n",
    "matriz[1][1]"
   ]
  },
  {
   "cell_type": "code",
   "execution_count": 144,
   "metadata": {},
   "outputs": [],
   "source": [
    "# aunque con las librerias incorporadas de Python se puede hacer mucho, hay varias librerias externales que ofrecen mas funcionalidad\n",
    "# para trabajar con una matrix, numpy es una libreria util\n",
    "import numpy as np\n",
    "ma2 = np.array(matriz)"
   ]
  },
  {
   "cell_type": "code",
   "execution_count": 146,
   "metadata": {},
   "outputs": [
    {
     "data": {
      "text/plain": [
       "array([['a', 'b', 'c'],\n",
       "       ['d', 'e', 'f'],\n",
       "       ['g', 'h', 'i']],\n",
       "      dtype='<U1')"
      ]
     },
     "execution_count": 146,
     "metadata": {},
     "output_type": "execute_result"
    }
   ],
   "source": [
    "ma2"
   ]
  },
  {
   "cell_type": "code",
   "execution_count": 147,
   "metadata": {},
   "outputs": [
    {
     "data": {
      "text/plain": [
       "array([['a', 'd', 'g'],\n",
       "       ['b', 'e', 'h'],\n",
       "       ['c', 'f', 'i']],\n",
       "      dtype='<U1')"
      ]
     },
     "execution_count": 147,
     "metadata": {},
     "output_type": "execute_result"
    }
   ],
   "source": [
    "# transponer la matriz\n",
    "ma2.T"
   ]
  },
  {
   "cell_type": "markdown",
   "metadata": {},
   "source": [
    "---"
   ]
  },
  {
   "cell_type": "markdown",
   "metadata": {},
   "source": [
    "### Diccionarios\n",
    "- Similar a una lista, pero accedes a valores usando una clave en vez de un índice\n",
    "    - Distinguir entre Mapping vs Secuencia es importante, ya que las mappings no conservarán el orden - i.e., no son secuenciales.\n",
    "    - Puedes pensar en diccionarios como tablas hash de otros lenguajes\n",
    "- Se construye diccionarios con llaves {} y se separa cada clave y valor por dos puntos : y cada par de clave-valor por comas\n",
    "- Los llaves deben ser únicos dentro del diccionario y solo se permite un numero o string\n",
    "- Los valores no deber ser únicos y pueden ser de cualquier tipo \n",
    "\n",
    "Vamos a cubrir:\n",
    "- Crear diccionarios\n",
    "- Acceder a objetos dentro del diccionario\n",
    "- Diccionario anidado\n",
    "- Métodos básicos del diccionario\n"
   ]
  },
  {
   "cell_type": "code",
   "execution_count": 148,
   "metadata": {},
   "outputs": [
    {
     "data": {
      "text/plain": [
       "{'key1': 1, 'key2': 2, 'key3': 3}"
      ]
     },
     "execution_count": 148,
     "metadata": {},
     "output_type": "execute_result"
    }
   ],
   "source": [
    "# Crear un diccionario con {}\n",
    "dd = {\"key1\":1,\"key2\":2,\"key3\":3,}\n",
    "dd"
   ]
  },
  {
   "cell_type": "code",
   "execution_count": 161,
   "metadata": {},
   "outputs": [
    {
     "data": {
      "text/plain": [
       "{'key1': 1, 'key2': 2, 'key3': 3}"
      ]
     },
     "execution_count": 161,
     "metadata": {},
     "output_type": "execute_result"
    }
   ],
   "source": [
    "# Crear un diccionario con dict() y una lista de tuples de llaves y valores\n",
    "dd2 = dict([(\"key1\",1),(\"key2\",2),(\"key3\",3)])\n",
    "dd2"
   ]
  },
  {
   "cell_type": "code",
   "execution_count": 162,
   "metadata": {},
   "outputs": [
    {
     "data": {
      "text/plain": [
       "{'key1': 1, 'key2': 2, 'key3': 3}"
      ]
     },
     "execution_count": 162,
     "metadata": {},
     "output_type": "execute_result"
    }
   ],
   "source": [
    "# Crear un diccionario con dict(), listas de llaves y valores y la función zip para crear la lista de tuples\n",
    "keys = [\"key1\",\"key2\",\"key3\"]\n",
    "values = list(range(1,4))\n",
    "dd = dict(zip(keys, values))\n",
    "dd\n"
   ]
  },
  {
   "cell_type": "code",
   "execution_count": 163,
   "metadata": {},
   "outputs": [
    {
     "data": {
      "text/plain": [
       "{'key1': 1, 'key2': 3}"
      ]
     },
     "execution_count": 163,
     "metadata": {},
     "output_type": "execute_result"
    }
   ],
   "source": [
    "# ojo - los claves deben ser únicos\n",
    "# si no, solo se incluye un par\n",
    "dd = {\"key1\":1,\"key2\":2,\"key2\":3,}\n",
    "dd"
   ]
  },
  {
   "cell_type": "code",
   "execution_count": 164,
   "metadata": {},
   "outputs": [
    {
     "data": {
      "text/plain": [
       "1"
      ]
     },
     "execution_count": 164,
     "metadata": {},
     "output_type": "execute_result"
    }
   ],
   "source": [
    "# llamar un valor por su llave\n",
    "dd['key1']"
   ]
  },
  {
   "cell_type": "code",
   "execution_count": 165,
   "metadata": {},
   "outputs": [],
   "source": [
    "# un diccionario puede contener valores de varios tipos\n",
    "midict1 = {'key1':123,'key2':[12,23,33],'key3':['item0','item1','item2']}"
   ]
  },
  {
   "cell_type": "code",
   "execution_count": 166,
   "metadata": {},
   "outputs": [
    {
     "data": {
      "text/plain": [
       "'item1'"
      ]
     },
     "execution_count": 166,
     "metadata": {},
     "output_type": "execute_result"
    }
   ],
   "source": [
    "# llamar el segundo elemento de key3\n",
    "midict1[\"key3\"][1]"
   ]
  },
  {
   "cell_type": "code",
   "execution_count": 167,
   "metadata": {},
   "outputs": [],
   "source": [
    "# cambiar el valor de una llave\n",
    "midict1['key1'] = 456"
   ]
  },
  {
   "cell_type": "code",
   "execution_count": 168,
   "metadata": {},
   "outputs": [
    {
     "data": {
      "text/plain": [
       "{'key1': 456, 'key2': [12, 23, 33], 'key3': ['item0', 'item1', 'item2']}"
      ]
     },
     "execution_count": 168,
     "metadata": {},
     "output_type": "execute_result"
    }
   ],
   "source": [
    "midict1"
   ]
  },
  {
   "cell_type": "code",
   "execution_count": 172,
   "metadata": {},
   "outputs": [
    {
     "data": {
      "text/plain": [
       "1"
      ]
     },
     "execution_count": 172,
     "metadata": {},
     "output_type": "execute_result"
    }
   ],
   "source": [
    "## diccionario anidado\n",
    "# llave, llaveAnidado, llaveSubAnidado\n",
    "midict2 = {'key1':{'key2':{'key3':['item0','item1','item2']}}}\n",
    "len(midict2)"
   ]
  },
  {
   "cell_type": "code",
   "execution_count": 173,
   "metadata": {},
   "outputs": [
    {
     "data": {
      "text/plain": [
       "['item0', 'item1', 'item2']"
      ]
     },
     "execution_count": 173,
     "metadata": {},
     "output_type": "execute_result"
    }
   ],
   "source": [
    "## llamar el valor del diccionario mas anidado\n",
    "midict2['key1']['key2']['key3']"
   ]
  },
  {
   "cell_type": "code",
   "execution_count": 175,
   "metadata": {},
   "outputs": [
    {
     "data": {
      "text/plain": [
       "dict_keys(['key1', 'key2', 'key3'])"
      ]
     },
     "execution_count": 175,
     "metadata": {},
     "output_type": "execute_result"
    }
   ],
   "source": [
    "## llamar todas las llaves con el metodo .keys()\n",
    "midict1.keys()"
   ]
  },
  {
   "cell_type": "code",
   "execution_count": 176,
   "metadata": {},
   "outputs": [
    {
     "data": {
      "text/plain": [
       "dict_values([456, [12, 23, 33], ['item0', 'item1', 'item2']])"
      ]
     },
     "execution_count": 176,
     "metadata": {},
     "output_type": "execute_result"
    }
   ],
   "source": [
    "## llamar todos los valores con el metodo .values()\n",
    "midict1.values()"
   ]
  },
  {
   "cell_type": "code",
   "execution_count": 177,
   "metadata": {},
   "outputs": [
    {
     "name": "stdout",
     "output_type": "stream",
     "text": [
      "('key1', 456)\n",
      "<class 'tuple'>\n",
      "('key2', [12, 23, 33])\n",
      "<class 'tuple'>\n",
      "('key3', ['item0', 'item1', 'item2'])\n",
      "<class 'tuple'>\n"
     ]
    }
   ],
   "source": [
    "## llamar todos los pares de llave y valor\n",
    "# se devuelve otro tipo de objeto de Python - un tuple\n",
    "for i in midict1.items():\n",
    "    print(i)\n",
    "    print(type(i))"
   ]
  },
  {
   "cell_type": "code",
   "execution_count": 178,
   "metadata": {},
   "outputs": [
    {
     "name": "stdout",
     "output_type": "stream",
     "text": [
      "key1\n",
      "456\n",
      "key2\n",
      "[12, 23, 33]\n",
      "key3\n",
      "['item0', 'item1', 'item2']\n"
     ]
    }
   ],
   "source": [
    "# ciclar por un diccionario y deshacer el par en su llave y valor\n",
    "for ll,v in midict1.items():\n",
    "    print(ll)\n",
    "    print(v)"
   ]
  },
  {
   "cell_type": "markdown",
   "metadata": {},
   "source": [
    "#### ejemplo con diccionarios"
   ]
  },
  {
   "cell_type": "code",
   "execution_count": 179,
   "metadata": {},
   "outputs": [
    {
     "name": "stdout",
     "output_type": "stream",
     "text": [
      "{'Pro1': 100, 'Pro2': 200, 'Pro3': 300}\n"
     ]
    }
   ],
   "source": [
    "## construir un base de datos de productos y sus precios\n",
    "# lista de productos\n",
    "productos = ['Pro1','Pro2','Pro3']\n",
    "\n",
    "# lista de los precios de los productos\n",
    "precios = [100,200,300]\n",
    "\n",
    "# crear la base de datos\n",
    "db = dict(zip(productos,precios))\n",
    "print(db)\n",
    "\n"
   ]
  },
  {
   "cell_type": "code",
   "execution_count": 180,
   "metadata": {},
   "outputs": [
    {
     "data": {
      "text/plain": [
       "{'Pro1': {'sub1': 100, 'sub2': 200}, 'Pro2': 200, 'Pro3': 300}"
      ]
     },
     "execution_count": 180,
     "metadata": {},
     "output_type": "execute_result"
    }
   ],
   "source": [
    "## que pasa si hay subproductos dentro de una categoria?\n",
    "# lista de subproductos de producto 1\n",
    "subproductos = ['sub1','sub2']\n",
    "\n",
    "# lista de los precios de los subproductos\n",
    "subprecios = [100,200]\n",
    "\n",
    "# actualizar la información para producto 1\n",
    "db['Pro1'] = dict(zip(subproductos,subprecios))\n",
    "db"
   ]
  }
 ],
 "metadata": {
  "kernelspec": {
   "display_name": "Python 3",
   "language": "python",
   "name": "python3"
  },
  "language_info": {
   "codemirror_mode": {
    "name": "ipython",
    "version": 3
   },
   "file_extension": ".py",
   "mimetype": "text/x-python",
   "name": "python",
   "nbconvert_exporter": "python",
   "pygments_lexer": "ipython3",
   "version": "3.6.4"
  }
 },
 "nbformat": 4,
 "nbformat_minor": 2
}
